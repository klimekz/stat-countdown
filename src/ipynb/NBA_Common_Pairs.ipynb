{
  "nbformat": 4,
  "nbformat_minor": 0,
  "metadata": {
    "colab": {
      "provenance": []
    },
    "kernelspec": {
      "name": "python3",
      "display_name": "Python 3"
    },
    "language_info": {
      "name": "python"
    }
  },
  "cells": [
    {
      "cell_type": "code",
      "execution_count": 33,
      "metadata": {
        "colab": {
          "base_uri": "https://localhost:8080/"
        },
        "id": "i1WuFcYf0pWS",
        "outputId": "dc7555e6-a1d0-49d0-c67f-aad2abab975d"
      },
      "outputs": [
        {
          "output_type": "stream",
          "name": "stdout",
          "text": [
            "Drive already mounted at /content/drive; to attempt to forcibly remount, call drive.mount(\"/content/drive\", force_remount=True).\n"
          ]
        }
      ],
      "source": [
        "import pandas as pd\n",
        "from google.colab import drive\n",
        "from itertools import combinations\n",
        "\n",
        "drive.mount('/content/drive')\n",
        "\n",
        "path = '/content/drive/My Drive/NBA_Stats.xlsx'\n",
        "\n",
        "# Read the Excel file into a DataFrame.\n",
        "df = pd.read_excel(path)"
      ]
    },
    {
      "cell_type": "code",
      "source": [
        "current_season = []\n",
        "\n",
        "for i, player in df.iterrows():\n",
        "  if(player[\"SeasonStartYear\"] == 2018 and player[\"SeasonType\"] == \"Regular Season\"):\n",
        "      current_season.append(player)\n",
        "\n",
        "df_2223 = pd.DataFrame(current_season)"
      ],
      "metadata": {
        "id": "k_UI42ia1zn6"
      },
      "execution_count": 34,
      "outputs": []
    },
    {
      "cell_type": "code",
      "source": [
        "df_2223"
      ],
      "metadata": {
        "id": "QsEjIR0Y16uv"
      },
      "execution_count": null,
      "outputs": []
    },
    {
      "cell_type": "markdown",
      "source": [
        "<br>"
      ],
      "metadata": {
        "id": "jo5DDw02I07Y"
      }
    },
    {
      "cell_type": "markdown",
      "source": [
        "### Find pairs of players whose average PTS/gm stats are similar based on a defined margin."
      ],
      "metadata": {
        "id": "kSKR6IV0Lxxs"
      }
    },
    {
      "cell_type": "markdown",
      "source": [
        "Generate list of combinations of players, without duplicates, to create subset of pairs whose average assists per game are within a defined margin of each other."
      ],
      "metadata": {
        "id": "6R0AVHsYNwZx"
      }
    },
    {
      "cell_type": "code",
      "source": [
        "player_pairs = list(combinations(df_2223.itertuples(index=False), 2))\n",
        "df_pts_pairs = pd.DataFrame()\n",
        "\n",
        "margin = 0.75\n",
        "\n",
        "for pair in player_pairs:\n",
        "  playerAstatpg = pair[0].PointsScored / pair[0].GamesPlayed\n",
        "  playerBstatpg = pair[1].PointsScored / pair[1].GamesPlayed\n",
        "  if(pair[0].GamesPlayed > 10 and pair[1].GamesPlayed > 10):\n",
        "    answer = pair[0].Player if playerAstatpg > playerBstatpg else pair[1].Player\n",
        "    diff = abs(playerBstatpg - playerAstatpg)\n",
        "    if diff < margin and diff >= 0.25 and playerAstatpg > 7:\n",
        "      df_pts_pairs = pd.concat([df_pts_pairs, pd.DataFrame.from_records([{\n",
        "      \"PlayerAId\": pair[0].PlayerID,\n",
        "      \"PlayerAName\": pair[0].Player,\n",
        "      \"PlayerAStatperGame\": playerAstatpg,\n",
        "      \"PlayerATeam\": pair[0].Team,\n",
        "      \"PlayerBId\": pair[1].PlayerID,\n",
        "      \"PlayerBName\": pair[1].Player,\n",
        "      \"PlayerBStatperGame\": playerBstatpg,\n",
        "      \"PlayerBTeam\": pair[1].Team,\n",
        "      \"SeasonStart\": pair[1].SeasonStartYear,\n",
        "      \"Answer\": answer,\n",
        "      \"StatCategory\": \"PTS\",\n",
        "      \"Interval\": diff\n",
        "\n",
        "      }])])\n",
        "\n",
        "print(len(df_pts_pairs))"
      ],
      "metadata": {
        "colab": {
          "base_uri": "https://localhost:8080/"
        },
        "id": "F-oFazTEL9Sg",
        "outputId": "d7d07e20-783c-443e-8d03-045d4ed22494"
      },
      "execution_count": 43,
      "outputs": [
        {
          "output_type": "stream",
          "name": "stdout",
          "text": [
            "2588\n"
          ]
        }
      ]
    },
    {
      "cell_type": "code",
      "source": [
        "df_pts_pairs"
      ],
      "metadata": {
        "id": "xMxfIpeMN2Y7"
      },
      "execution_count": null,
      "outputs": []
    },
    {
      "cell_type": "markdown",
      "source": [
        "### Find pairs of players whose average AST/gm stats are similar based on a defined margin."
      ],
      "metadata": {
        "id": "2EpkL-0y4YSs"
      }
    },
    {
      "cell_type": "code",
      "source": [
        "player_pairs = list(combinations(df_2223.itertuples(index=False), 2))\n",
        "df_ast_pairs = pd.DataFrame()\n",
        "\n",
        "margin = 2.5\n",
        "\n",
        "for pair in player_pairs:\n",
        "  playerAstatpg = pair[0].Assists / pair[0].GamesPlayed\n",
        "  playerBstatpg = pair[1].Assists / pair[1].GamesPlayed\n",
        "  if(pair[0].GamesPlayed > 10 and pair[1].GamesPlayed > 10):\n",
        "    answer = pair[0].Player if playerAstatpg > playerBstatpg else pair[1].Player\n",
        "    diff = abs(playerBstatpg - playerAstatpg)\n",
        "    if diff < margin and diff >= 0.25 and playerAstatpg > 4:\n",
        "      df_ast_pairs = pd.concat([df_ast_pairs, pd.DataFrame.from_records([{\n",
        "      \"PlayerAId\": pair[0].PlayerID,\n",
        "      \"PlayerAName\": pair[0].Player,\n",
        "      \"PlayerAStatperGame\": playerAstatpg,\n",
        "      \"PlayerATeam\": pair[0].Team,\n",
        "      \"PlayerBId\": pair[1].PlayerID,\n",
        "      \"PlayerBName\": pair[1].Player,\n",
        "      \"PlayerBStatperGame\": playerBstatpg,\n",
        "      \"PlayerBTeam\": pair[1].Team,\n",
        "      \"SeasonStart\": pair[1].SeasonStartYear,\n",
        "      \"Answer\": answer,\n",
        "      \"StatCategory\": \"AST\",\n",
        "      \"Interval\": diff\n",
        "\n",
        "      }])])\n",
        "\n",
        "print(len(df_ast_pairs))\n",
        "# df_ast_pairs.to_csv(\"AST_2022.csv\")"
      ],
      "metadata": {
        "colab": {
          "base_uri": "https://localhost:8080/"
        },
        "id": "-0vP27nTGHyU",
        "outputId": "390771c9-a775-4d77-84b7-96de34028e17"
      },
      "execution_count": 44,
      "outputs": [
        {
          "output_type": "stream",
          "name": "stdout",
          "text": [
            "3508\n"
          ]
        }
      ]
    },
    {
      "cell_type": "code",
      "source": [
        "df_ast_pairs"
      ],
      "metadata": {
        "id": "flEI3lbxq5v6"
      },
      "execution_count": null,
      "outputs": []
    },
    {
      "cell_type": "markdown",
      "source": [
        "### Find pairs of players whose average REB/gm stats are similar based on a defined margin."
      ],
      "metadata": {
        "id": "xEW1vEIzI_iM"
      }
    },
    {
      "cell_type": "code",
      "source": [
        "player_pairs = list(combinations(df_2223.itertuples(index=False), 2))\n",
        "df_reb_pairs = pd.DataFrame()\n",
        "\n",
        "margin = 1.4\n",
        "\n",
        "for pair in player_pairs:\n",
        "  playerAstatpg = pair[0].Rebounds / pair[0].GamesPlayed\n",
        "  playerBstatpg = pair[1].Rebounds / pair[1].GamesPlayed\n",
        "  if(pair[0].GamesPlayed > 10 and pair[1].GamesPlayed > 10):\n",
        "    answer = pair[0].Player if playerAstatpg > playerBstatpg else pair[1].Player\n",
        "    diff = abs(playerBstatpg - playerAstatpg)\n",
        "    if diff < margin and diff > 0.2 and playerAstatpg > 5.2:\n",
        "      df_reb_pairs = pd.concat([df_reb_pairs, pd.DataFrame.from_records([{\n",
        "      \"PlayerAId\": pair[0].PlayerID,\n",
        "      \"PlayerAName\": pair[0].Player,\n",
        "      \"PlayerAStatperGame\": playerAstatpg,\n",
        "      \"PlayerATeam\": pair[0].Team,\n",
        "      \"PlayerBId\": pair[1].PlayerID,\n",
        "      \"PlayerBName\": pair[1].Player,\n",
        "      \"PlayerBStatperGame\": playerBstatpg,\n",
        "      \"PlayerBTeam\": pair[1].Team,\n",
        "      \"SeasonStart\": pair[1].SeasonStartYear,\n",
        "      \"Answer\": answer,\n",
        "      \"StatCategory\": \"REB\",\n",
        "      \"Interval\": diff\n",
        "\n",
        "      }])])\n",
        "\n",
        "print(len(df_reb_pairs))\n",
        "# df_reb_pairs.to_csv(\"AST_2022.csv)"
      ],
      "metadata": {
        "id": "xifptGciI_AR",
        "colab": {
          "base_uri": "https://localhost:8080/"
        },
        "outputId": "c67a3f00-cf30-40c4-89e7-d68747e3d41a"
      },
      "execution_count": 53,
      "outputs": [
        {
          "output_type": "stream",
          "name": "stdout",
          "text": [
            "2798\n"
          ]
        }
      ]
    },
    {
      "cell_type": "code",
      "source": [
        "df_reb_pairs"
      ],
      "metadata": {
        "id": "FRczMwwRKUVt"
      },
      "execution_count": null,
      "outputs": []
    },
    {
      "cell_type": "markdown",
      "source": [
        "###Firestore update for all stats"
      ],
      "metadata": {
        "id": "PIK5ASKqpyDY"
      }
    },
    {
      "cell_type": "code",
      "source": [
        "import os\n",
        "from google.cloud import firestore\n",
        "from google.colab import auth\n",
        "\n",
        "auth.authenticate_user()"
      ],
      "metadata": {
        "id": "pPZgh89bpyDZ"
      },
      "execution_count": 55,
      "outputs": []
    },
    {
      "cell_type": "code",
      "source": [
        "# Combine all resulting dfs\n",
        "df_pra = pd.DataFrame()\n",
        "df_pra = pd.concat([df_pts_pairs, df_ast_pairs, df_reb_pairs], ignore_index=True)"
      ],
      "metadata": {
        "id": "AbvxxIndp2KP"
      },
      "execution_count": 56,
      "outputs": []
    },
    {
      "cell_type": "code",
      "source": [
        "import random\n",
        "\n",
        "queued_questions = 0\n",
        "included_players = []\n",
        "while queued_questions < 10:\n",
        "  index = random.randint(0,len(df_pra))\n",
        "  single_doc = df_pra.iloc[index].to_dict()\n",
        "  if(single_doc[\"PlayerAName\"] in included_players or single_doc[\"PlayerBName\"] in included_players):\n",
        "    pass\n",
        "  else:\n",
        "    included_players.append(single_doc[\"PlayerAName\"])\n",
        "    included_players.append(single_doc[\"PlayerBName\"])\n",
        "    project_id = \"vue-nba-guess\"\n",
        "    db = firestore.Client(project=project_id)\n",
        "    doc_ref = db.collection(\"daily-challenge\").document(\"2023-07-27\").collection(\"questions\").document(str(queued_questions))\n",
        "    doc_ref.set(single_doc)\n",
        "    queued_questions = queued_questions + 1\n"
      ],
      "metadata": {
        "id": "2dwKdzMupyDZ"
      },
      "execution_count": 57,
      "outputs": []
    },
    {
      "cell_type": "markdown",
      "source": [
        "###Firestore update for only AST"
      ],
      "metadata": {
        "id": "2Mhc8x88esd6"
      }
    },
    {
      "cell_type": "code",
      "source": [
        "import os\n",
        "from google.cloud import firestore\n",
        "from google.colab import auth\n",
        "\n",
        "auth.authenticate_user()"
      ],
      "metadata": {
        "id": "XQ_d37tyeQQQ"
      },
      "execution_count": null,
      "outputs": []
    },
    {
      "cell_type": "code",
      "source": [
        "import random\n",
        "\n",
        "queued_questions = 0\n",
        "included_players = []\n",
        "while queued_questions < 10:\n",
        "  index = random.randint(0,len(df_ast_pairs))\n",
        "  single_doc = df_ast_pairs.iloc[index].to_dict()\n",
        "  if(single_doc[\"PlayerAName\"] in included_players or single_doc[\"PlayerBName\"] in included_players):\n",
        "    pass\n",
        "  else:\n",
        "    included_players.append(single_doc[\"PlayerAName\"])\n",
        "    included_players.append(single_doc[\"PlayerBName\"])\n",
        "    project_id = \"vue-nba-guess\"\n",
        "    db = firestore.Client(project=project_id)\n",
        "    doc_ref = db.collection(\"daily-challenge\").document(\"2023-07-27\").collection(\"questions\").document(str(queued_questions))\n",
        "    # doc_ref.set(single_doc)\n",
        "    queued_questions = queued_questions + 1\n"
      ],
      "metadata": {
        "id": "Mupcefm2lv4g"
      },
      "execution_count": null,
      "outputs": []
    },
    {
      "cell_type": "markdown",
      "source": [
        "<br>"
      ],
      "metadata": {
        "id": "AQFbV_h5I6wh"
      }
    }
  ]
}